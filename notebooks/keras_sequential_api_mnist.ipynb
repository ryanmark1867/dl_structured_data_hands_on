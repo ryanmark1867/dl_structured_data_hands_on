{
 "cells": [
  {
   "cell_type": "code",
   "execution_count": 3,
   "metadata": {},
   "outputs": [
    {
     "name": "stderr",
     "output_type": "stream",
     "text": [
      "WARNING:tensorflow:From c:\\users\\ryanm\\appdata\\local\\programs\\python\\python37\\lib\\site-packages\\tensorflow_core\\python\\ops\\resource_variable_ops.py:1630: calling BaseResourceVariable.__init__ (from tensorflow.python.ops.resource_variable_ops) with constraint is deprecated and will be removed in a future version.\n",
      "Instructions for updating:\n",
      "If using Keras pass *_constraint arguments to layers.\n"
     ]
    },
    {
     "name": "stdout",
     "output_type": "stream",
     "text": [
      "Train on 48000 samples, validate on 12000 samples\n",
      "Epoch 1/5\n",
      "48000/48000 [==============================] - 4s 74us/sample - loss: 0.3820 - acc: 0.8886 - val_loss: 0.1903 - val_acc: 0.9487\n",
      "Epoch 2/5\n",
      "48000/48000 [==============================] - 2s 46us/sample - loss: 0.1846 - acc: 0.9459 - val_loss: 0.1378 - val_acc: 0.9601\n",
      "Epoch 3/5\n",
      "48000/48000 [==============================] - 2s 47us/sample - loss: 0.1383 - acc: 0.9597 - val_loss: 0.1119 - val_acc: 0.9668\n",
      "Epoch 4/5\n",
      "48000/48000 [==============================] - 2s 46us/sample - loss: 0.1147 - acc: 0.9655 - val_loss: 0.1015 - val_acc: 0.9709\n",
      "Epoch 5/5\n",
      "48000/48000 [==============================] - 2s 46us/sample - loss: 0.0963 - acc: 0.9712 - val_loss: 0.0943 - val_acc: 0.9713\n",
      "10000/10000 - 0s - loss: 0.0855 - acc: 0.9728\n",
      "Test loss: 0.08552521882625297\n",
      "Test accuracy: 0.9728\n"
     ]
    }
   ],
   "source": [
    "# minimal Kera sequential API model for MNIST\n",
    "# adapted from https://github.com/tensorflow/docs/blob/master/site/en/tutorials/quickstart/beginner.ipynb\n",
    "\n",
    "#import libraries\n",
    "\n",
    "import tensorflow as tf\n",
    "import pydotplus\n",
    "from tensorflow.keras.utils import plot_model\n",
    "\n",
    "mnist = tf.keras.datasets.mnist\n",
    "\n",
    "# define model inputs\n",
    "\n",
    "(x_train, y_train), (x_test, y_test) = mnist.load_data()\n",
    "x_train, x_test = x_train / 255.0, x_test / 255.0\n",
    "\n",
    "# define model layers\n",
    "\n",
    "model = tf.keras.models.Sequential([ \n",
    "  tf.keras.layers.Flatten(input_shape=(28, 28)), \n",
    "  tf.keras.layers.Dense(128, activation='relu'), \n",
    "  tf.keras.layers.Dropout(0.2), \n",
    "  tf.keras.layers.Dense(10) \n",
    "])\n",
    "\n",
    "# compile model, including specifying the loss function, optimizer, and metrics\n",
    "\n",
    "model.compile(optimizer='adam',\n",
    "              loss=tf.keras.losses.SparseCategoricalCrossentropy(from_logits=True),\n",
    "              metrics=['accuracy']) \n",
    "\n",
    "# train model\n",
    "\n",
    "history = model.fit(x_train, y_train,\n",
    "                    batch_size=64,\n",
    "                    epochs=5,\n",
    "                    validation_split=0.2)\n",
    "\n",
    "# assess model performance\n",
    "                    \n",
    "test_scores = model.evaluate(x_test,  y_test, verbose=2) \n",
    "print('Test loss:', test_scores[0])\n",
    "print('Test accuracy:', test_scores[1])"
   ]
  },
  {
   "cell_type": "code",
   "execution_count": null,
   "metadata": {},
   "outputs": [],
   "source": []
  }
 ],
 "metadata": {
  "kernelspec": {
   "display_name": "Python 3",
   "language": "python",
   "name": "python3"
  },
  "language_info": {
   "codemirror_mode": {
    "name": "ipython",
    "version": 3
   },
   "file_extension": ".py",
   "mimetype": "text/x-python",
   "name": "python",
   "nbconvert_exporter": "python",
   "pygments_lexer": "ipython3",
   "version": "3.7.4"
  }
 },
 "nbformat": 4,
 "nbformat_minor": 4
}
