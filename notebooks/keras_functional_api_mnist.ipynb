{
 "cells": [
  {
   "cell_type": "code",
   "execution_count": 1,
   "metadata": {},
   "outputs": [
    {
     "name": "stdout",
     "output_type": "stream",
     "text": [
      "WARNING:tensorflow:From c:\\users\\ryanm\\appdata\\local\\programs\\python\\python37\\lib\\site-packages\\tensorflow_core\\python\\ops\\resource_variable_ops.py:1630: calling BaseResourceVariable.__init__ (from tensorflow.python.ops.resource_variable_ops) with constraint is deprecated and will be removed in a future version.\n",
      "Instructions for updating:\n",
      "If using Keras pass *_constraint arguments to layers.\n",
      "Train on 48000 samples, validate on 12000 samples\n",
      "Epoch 1/5\n",
      "48000/48000 [==============================] - 3s 56us/sample - loss: 0.3617 - acc: 0.8968 - val_loss: 0.1765 - val_acc: 0.9491\n",
      "Epoch 2/5\n",
      "48000/48000 [==============================] - 2s 50us/sample - loss: 0.1768 - acc: 0.9479 - val_loss: 0.1312 - val_acc: 0.9629\n",
      "Epoch 3/5\n",
      "48000/48000 [==============================] - 3s 58us/sample - loss: 0.1377 - acc: 0.9601 - val_loss: 0.1133 - val_acc: 0.9673\n",
      "Epoch 4/5\n",
      "48000/48000 [==============================] - 2s 52us/sample - loss: 0.1158 - acc: 0.9663 - val_loss: 0.1035 - val_acc: 0.9711\n",
      "Epoch 5/5\n",
      "48000/48000 [==============================] - 2s 51us/sample - loss: 0.1010 - acc: 0.9707 - val_loss: 0.1064 - val_acc: 0.9715\n",
      "10000/10000 - 0s - loss: 0.0975 - acc: 0.9726\n",
      "Test loss: 0.09745632820380852\n",
      "Test accuracy: 0.9726\n"
     ]
    }
   ],
   "source": [
    "# minimal Kera functional API model for MNIST\n",
    "# adapted from https://www.tensorflow.org/guide/keras/functional\n",
    "\n",
    "#import libraries\n",
    "\n",
    "import numpy as np\n",
    "import tensorflow as tf\n",
    "from tensorflow import keras\n",
    "from tensorflow.keras import layers\n",
    "\n",
    "# define model layers\n",
    "\n",
    "inputs = keras.Input(shape=(784,)) \n",
    "flatten = layers.Flatten(input_shape=(28, 28))\n",
    "flattened = flatten(inputs)\n",
    "dense = layers.Dense(128, activation='relu')(flattened)\n",
    "dropout = layers.Dropout(0.2) (dense)\n",
    "outputs = layers.Dense(10) (dropout) \n",
    "\n",
    "# define model inputs and outputs (taken from layer definition)\n",
    "\n",
    "model = keras.Model(inputs=inputs, outputs=outputs, name='mnist_model')\n",
    "(x_train, y_train), (x_test, y_test) = keras.datasets.mnist.load_data()\n",
    "\n",
    "x_train = x_train.reshape(60000, 784).astype('float32') / 255 \n",
    "x_test = x_test.reshape(10000, 784).astype('float32') / 255\n",
    "\n",
    "# compile model, including specifying the loss function, optimizer, and metrics\n",
    "\n",
    "model.compile(loss=keras.losses.SparseCategoricalCrossentropy(from_logits=True),\n",
    "              optimizer=keras.optimizers.RMSprop(),\n",
    "              metrics=['accuracy']) \n",
    "\n",
    "# train model\n",
    "\n",
    "history = model.fit(x_train, y_train,\n",
    "                    batch_size=64,\n",
    "                    epochs=5,\n",
    "                    validation_split=0.2) \n",
    "\n",
    "# assess model performance\n",
    "\n",
    "test_scores = model.evaluate(x_test, y_test, verbose=2)\n",
    "print('Test loss:', test_scores[0])\n",
    "print('Test accuracy:', test_scores[1])"
   ]
  }
 ],
 "metadata": {
  "kernelspec": {
   "display_name": "Python 3",
   "language": "python",
   "name": "python3"
  },
  "language_info": {
   "codemirror_mode": {
    "name": "ipython",
    "version": 3
   },
   "file_extension": ".py",
   "mimetype": "text/x-python",
   "name": "python",
   "nbconvert_exporter": "python",
   "pygments_lexer": "ipython3",
   "version": "3.7.4"
  }
 },
 "nbformat": 4,
 "nbformat_minor": 4
}
